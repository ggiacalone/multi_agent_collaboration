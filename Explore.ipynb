{
 "cells": [
  {
   "cell_type": "code",
   "execution_count": 1,
   "metadata": {},
   "outputs": [],
   "source": [
    "%load_ext autoreload\n",
    "%autoreload 2"
   ]
  },
  {
   "cell_type": "code",
   "execution_count": 2,
   "metadata": {},
   "outputs": [],
   "source": [
    "from unityagents import UnityEnvironment\n",
    "import numpy as np\n",
    "\n",
    "import matplotlib.pyplot as plt\n",
    "%matplotlib inline"
   ]
  },
  {
   "cell_type": "code",
   "execution_count": 3,
   "metadata": {},
   "outputs": [],
   "source": [
    "from plot import plot_scores\n",
    "from run import run"
   ]
  },
  {
   "cell_type": "code",
   "execution_count": 4,
   "metadata": {},
   "outputs": [],
   "source": [
    "env = UnityEnvironment(file_name=\"Tennis_Linux/Tennis.x86_64\")"
   ]
  },
  {
   "cell_type": "code",
   "execution_count": 31,
   "metadata": {},
   "outputs": [],
   "source": [
    "env.close()"
   ]
  },
  {
   "cell_type": "code",
   "execution_count": 5,
   "metadata": {},
   "outputs": [],
   "source": [
    "brain_name = env.brain_names[0]\n",
    "brain = env.brains[brain_name]\n",
    "env_info = env.reset(train_mode=True)[brain_name]\n",
    "num_agents = len(env_info.agents)\n",
    "action_size = brain.vector_action_space_size\n",
    "states = env_info.vector_observations\n",
    "state_size = states.shape[1]"
   ]
  },
  {
   "cell_type": "code",
   "execution_count": 22,
   "metadata": {
    "collapsed": true
   },
   "outputs": [],
   "source": [
    "from maddpg import MaddpgAgent\n",
    "agent = MaddpgAgent(state_size=state_size, action_size=action_size, random_seed=0)"
   ]
  },
  {
   "cell_type": "code",
   "execution_count": 24,
   "metadata": {},
   "outputs": [
    {
     "name": "stderr",
     "output_type": "stream",
     "text": [
      "/home/yipstar/anaconda3/envs/drl/lib/python3.6/site-packages/torch/nn/functional.py:995: UserWarning: nn.functional.tanh is deprecated. Use torch.tanh instead.\n",
      "  warnings.warn(\"nn.functional.tanh is deprecated. Use torch.tanh instead.\")\n",
      "/home/yipstar/drl/projects/p3_collab-compet/ddpg_agent.py:139: UserWarning: torch.nn.utils.clip_grad_norm is now deprecated in favor of torch.nn.utils.clip_grad_norm_.\n",
      "  torch.nn.utils.clip_grad_norm(self.critic_local.parameters(), 1)\n"
     ]
    },
    {
     "name": "stdout",
     "output_type": "stream",
     "text": [
      "Episode 100\tAverage Score: 0.00\n",
      "Episode 200\tAverage Score: 0.00\n",
      "Episode 300\tAverage Score: 0.00\n",
      "Episode 400\tAverage Score: 0.00\n",
      "Episode 500\tAverage Score: 0.00\n",
      "Episode 600\tAverage Score: 0.00\n",
      "Episode 700\tAverage Score: 0.00\n",
      "Episode 800\tAverage Score: 0.00\n",
      "Episode 900\tAverage Score: 0.00\n",
      "Episode 1000\tAverage Score: 0.00\n",
      "Episode 1100\tAverage Score: 0.02\n",
      "Episode 1200\tAverage Score: 0.00\n",
      "Episode 1300\tAverage Score: 0.01\n",
      "Episode 1400\tAverage Score: 0.00\n",
      "Episode 1500\tAverage Score: 0.01\n",
      "Episode 1600\tAverage Score: 0.02\n",
      "Episode 1700\tAverage Score: 0.04\n",
      "Episode 1800\tAverage Score: 0.10\n",
      "Episode 1900\tAverage Score: 0.10\n",
      "Episode 2000\tAverage Score: 0.10\n"
     ]
    }
   ],
   "source": [
    "scores, scores1, scores2 = run(env, agent, n_episodes=2000)"
   ]
  },
  {
   "cell_type": "code",
   "execution_count": 25,
   "metadata": {},
   "outputs": [
    {
     "name": "stderr",
     "output_type": "stream",
     "text": [
      "/home/yipstar/anaconda3/envs/drl/lib/python3.6/site-packages/torch/nn/functional.py:995: UserWarning: nn.functional.tanh is deprecated. Use torch.tanh instead.\n",
      "  warnings.warn(\"nn.functional.tanh is deprecated. Use torch.tanh instead.\")\n",
      "/home/yipstar/drl/projects/p3_collab-compet/ddpg_agent.py:107: UserWarning: torch.nn.utils.clip_grad_norm is now deprecated in favor of torch.nn.utils.clip_grad_norm_.\n",
      "  \n"
     ]
    },
    {
     "name": "stdout",
     "output_type": "stream",
     "text": [
      "Episode 100\tAverage Score: 0.11\n",
      "Episode 200\tAverage Score: 0.10\n",
      "Episode 300\tAverage Score: 0.12\n",
      "Episode 400\tAverage Score: 0.11\n",
      "Episode 500\tAverage Score: 0.11\n",
      "Episode 600\tAverage Score: 0.09\n",
      "Episode 700\tAverage Score: 0.09\n",
      "Episode 800\tAverage Score: 0.10\n",
      "Episode 900\tAverage Score: 0.10\n",
      "Episode 1000\tAverage Score: 0.11\n",
      "Episode 1100\tAverage Score: 0.10\n",
      "Episode 1200\tAverage Score: 0.11\n",
      "Episode 1300\tAverage Score: 0.10\n",
      "Episode 1400\tAverage Score: 0.10\n",
      "Episode 1500\tAverage Score: 0.11\n",
      "Episode 1600\tAverage Score: 0.11\n",
      "Episode 1700\tAverage Score: 0.12\n",
      "Episode 1800\tAverage Score: 0.37\n",
      "Episode 1900\tAverage Score: 0.16\n",
      "Episode 2000\tAverage Score: 0.11\n",
      "Episode 2100\tAverage Score: 0.10\n",
      "Episode 2200\tAverage Score: 0.10\n",
      "Episode 2300\tAverage Score: 0.12\n",
      "Episode 2400\tAverage Score: 0.12\n",
      "Episode 2500\tAverage Score: 0.10\n",
      "Episode 2600\tAverage Score: 0.10\n",
      "Episode 2700\tAverage Score: 0.10\n",
      "Episode 2800\tAverage Score: 0.10\n",
      "Episode 2900\tAverage Score: 0.10\n",
      "Episode 3000\tAverage Score: 0.10\n",
      "Episode 3100\tAverage Score: 0.10\n",
      "Episode 3200\tAverage Score: 0.09\n",
      "Episode 3300\tAverage Score: 0.10\n",
      "Episode 3400\tAverage Score: 0.09\n",
      "Episode 3500\tAverage Score: 0.09\n",
      "Episode 3600\tAverage Score: 0.08\n",
      "Episode 3700\tAverage Score: 0.08\n",
      "Episode 3800\tAverage Score: 0.07\n",
      "Episode 3900\tAverage Score: 0.08\n",
      "Episode 4000\tAverage Score: 0.08\n",
      "Episode 4100\tAverage Score: 0.08\n",
      "Episode 4200\tAverage Score: 0.08\n",
      "Episode 4300\tAverage Score: 0.08\n",
      "Episode 4400\tAverage Score: 0.09\n",
      "Episode 4500\tAverage Score: 0.08\n",
      "Episode 4600\tAverage Score: 0.09\n",
      "Episode 4700\tAverage Score: 0.09\n",
      "Episode 4800\tAverage Score: 0.09\n",
      "Episode 4900\tAverage Score: 0.09\n",
      "Episode 5000\tAverage Score: 0.10\n",
      "Episode 5100\tAverage Score: 0.10\n",
      "Episode 5200\tAverage Score: 0.10\n",
      "Episode 5300\tAverage Score: 0.10\n",
      "Episode 5400\tAverage Score: 0.10\n",
      "Episode 5500\tAverage Score: 0.10\n",
      "Episode 5600\tAverage Score: 0.10\n",
      "Episode 5700\tAverage Score: 0.10\n",
      "Episode 5800\tAverage Score: 0.10\n",
      "Episode 5900\tAverage Score: 0.11\n",
      "Episode 6000\tAverage Score: 0.10\n",
      "Episode 6100\tAverage Score: 0.09\n",
      "Episode 6200\tAverage Score: 0.09\n",
      "Episode 6300\tAverage Score: 0.08\n",
      "Episode 6400\tAverage Score: 0.09\n",
      "Episode 6500\tAverage Score: 0.09\n",
      "Episode 6600\tAverage Score: 0.09\n",
      "Episode 6700\tAverage Score: 0.08\n",
      "Episode 6800\tAverage Score: 0.08\n",
      "Episode 6900\tAverage Score: 0.08\n",
      "Episode 7000\tAverage Score: 0.08\n",
      "Episode 7100\tAverage Score: 0.07\n",
      "Episode 7200\tAverage Score: 0.06\n",
      "Episode 7300\tAverage Score: 0.06\n",
      "Episode 7400\tAverage Score: 0.07\n",
      "Episode 7500\tAverage Score: 0.06\n",
      "Episode 7600\tAverage Score: 0.07\n",
      "Episode 7700\tAverage Score: 0.09\n",
      "Episode 7800\tAverage Score: 0.10\n",
      "Episode 7900\tAverage Score: 0.10\n",
      "Episode 8000\tAverage Score: 0.09\n",
      "Episode 8100\tAverage Score: 0.10\n",
      "Episode 8200\tAverage Score: 0.09\n",
      "Episode 8300\tAverage Score: 0.10\n",
      "Episode 8400\tAverage Score: 0.09\n",
      "Episode 8500\tAverage Score: 0.09\n",
      "Episode 8600\tAverage Score: 0.09\n",
      "Episode 8700\tAverage Score: 0.09\n",
      "Episode 8800\tAverage Score: 0.09\n",
      "Episode 8900\tAverage Score: 0.10\n",
      "Episode 9000\tAverage Score: 0.09\n",
      "Episode 9100\tAverage Score: 0.09\n",
      "Episode 9200\tAverage Score: 0.09\n",
      "Episode 9300\tAverage Score: 0.09\n",
      "Episode 9400\tAverage Score: 0.09\n",
      "Episode 9500\tAverage Score: 0.10\n",
      "Episode 9600\tAverage Score: 0.10\n",
      "Episode 9700\tAverage Score: 0.10\n",
      "Episode 9800\tAverage Score: 0.10\n",
      "Episode 9900\tAverage Score: 0.10\n",
      "Episode 10000\tAverage Score: 0.10\n",
      "Episode 10100\tAverage Score: 0.10\n",
      "Episode 10200\tAverage Score: 0.09\n",
      "Episode 10300\tAverage Score: 0.09\n",
      "Episode 10400\tAverage Score: 0.08\n",
      "Episode 10500\tAverage Score: 0.08\n",
      "Episode 10600\tAverage Score: 0.06\n",
      "Episode 10700\tAverage Score: 0.06\n",
      "Episode 10800\tAverage Score: 0.06\n",
      "Episode 10900\tAverage Score: 0.07\n",
      "Episode 11000\tAverage Score: 0.06\n",
      "Episode 11100\tAverage Score: 0.07\n",
      "Episode 11200\tAverage Score: 0.09\n",
      "Episode 11300\tAverage Score: 0.10\n",
      "Episode 11400\tAverage Score: 0.08\n",
      "Episode 11500\tAverage Score: 0.07\n",
      "Episode 11600\tAverage Score: 0.09\n",
      "Episode 11700\tAverage Score: 0.09\n",
      "Episode 11800\tAverage Score: 0.07\n",
      "Episode 11900\tAverage Score: 0.08\n",
      "Episode 12000\tAverage Score: 0.07\n",
      "Episode 12100\tAverage Score: 0.08\n",
      "Episode 12200\tAverage Score: 0.06\n",
      "Episode 12300\tAverage Score: 0.07\n",
      "Episode 12400\tAverage Score: 0.07\n",
      "Episode 12500\tAverage Score: 0.07\n",
      "Episode 12600\tAverage Score: 0.06\n",
      "Episode 12700\tAverage Score: 0.06\n",
      "Episode 12800\tAverage Score: 0.08\n",
      "Episode 12900\tAverage Score: 0.06\n",
      "Episode 13000\tAverage Score: 0.06\n",
      "Episode 13100\tAverage Score: 0.06\n",
      "Episode 13200\tAverage Score: 0.06\n",
      "Episode 13300\tAverage Score: 0.05\n",
      "Episode 13400\tAverage Score: 0.06\n",
      "Episode 13500\tAverage Score: 0.06\n",
      "Episode 13600\tAverage Score: 0.08\n",
      "Episode 13700\tAverage Score: 0.08\n",
      "Episode 13800\tAverage Score: 0.07\n",
      "Episode 13900\tAverage Score: 0.07\n",
      "Episode 14000\tAverage Score: 0.07\n",
      "Episode 14100\tAverage Score: 0.06\n",
      "Episode 14200\tAverage Score: 0.06\n",
      "Episode 14300\tAverage Score: 0.06\n",
      "Episode 14400\tAverage Score: 0.06\n",
      "Episode 14500\tAverage Score: 0.08\n",
      "Episode 14600\tAverage Score: 0.06\n",
      "Episode 14700\tAverage Score: 0.05\n",
      "Episode 14800\tAverage Score: 0.06\n",
      "Episode 14900\tAverage Score: 0.07\n",
      "Episode 15000\tAverage Score: 0.07\n",
      "Episode 15100\tAverage Score: 0.07\n",
      "Episode 15200\tAverage Score: 0.06\n",
      "Episode 15300\tAverage Score: 0.06\n",
      "Episode 15400\tAverage Score: 0.06\n",
      "Episode 15500\tAverage Score: 0.07\n",
      "Episode 15600\tAverage Score: 0.07\n",
      "Episode 15700\tAverage Score: 0.07\n",
      "Episode 15800\tAverage Score: 0.07\n",
      "Episode 15900\tAverage Score: 0.07\n",
      "Episode 16000\tAverage Score: 0.07\n",
      "Episode 16100\tAverage Score: 0.08\n",
      "Episode 16200\tAverage Score: 0.07\n",
      "Episode 16300\tAverage Score: 0.08\n",
      "Episode 16400\tAverage Score: 0.09\n",
      "Episode 16500\tAverage Score: 0.08\n",
      "Episode 16600\tAverage Score: 0.08\n",
      "Episode 16700\tAverage Score: 0.07\n",
      "Episode 16800\tAverage Score: 0.09\n",
      "Episode 16900\tAverage Score: 0.06\n",
      "Episode 17000\tAverage Score: 0.06\n",
      "Episode 17100\tAverage Score: 0.06\n",
      "Episode 17200\tAverage Score: 0.06\n",
      "Episode 17300\tAverage Score: 0.05\n",
      "Episode 17400\tAverage Score: 0.05\n",
      "Episode 17500\tAverage Score: 0.07\n",
      "Episode 17600\tAverage Score: 0.06\n",
      "Episode 17700\tAverage Score: 0.06\n",
      "Episode 17800\tAverage Score: 0.05\n",
      "Episode 17900\tAverage Score: 0.06\n",
      "Episode 18000\tAverage Score: 0.07\n",
      "Episode 18100\tAverage Score: 0.06\n",
      "Episode 18200\tAverage Score: 0.07\n",
      "Episode 18300\tAverage Score: 0.08\n",
      "Episode 18400\tAverage Score: 0.06\n",
      "Episode 18500\tAverage Score: 0.06\n",
      "Episode 18600\tAverage Score: 0.07\n",
      "Episode 18700\tAverage Score: 0.07\n",
      "Episode 18800\tAverage Score: 0.07\n",
      "Episode 18900\tAverage Score: 0.07\n",
      "Episode 19000\tAverage Score: 0.08\n",
      "Episode 19100\tAverage Score: 0.07\n",
      "Episode 19200\tAverage Score: 0.07\n",
      "Episode 19300\tAverage Score: 0.07\n",
      "Episode 19400\tAverage Score: 0.08\n",
      "Episode 19500\tAverage Score: 0.07\n",
      "Episode 19600\tAverage Score: 0.06\n",
      "Episode 19700\tAverage Score: 0.07\n",
      "Episode 19800\tAverage Score: 0.06\n",
      "Episode 19900\tAverage Score: 0.05\n",
      "Episode 20000\tAverage Score: 0.06\n"
     ]
    }
   ],
   "source": [
    "scores, scores1, scores2 = run(env, agent, n_episodes=20000)"
   ]
  },
  {
   "cell_type": "code",
   "execution_count": 28,
   "metadata": {},
   "outputs": [],
   "source": [
    "from maddpg_agent import MaddpgAgent\n",
    "agent = MaddpgAgent(state_size=state_size, action_size=action_size, random_seed=0)"
   ]
  },
  {
   "cell_type": "code",
   "execution_count": 29,
   "metadata": {},
   "outputs": [
    {
     "name": "stderr",
     "output_type": "stream",
     "text": [
      "/home/yipstar/anaconda3/envs/drl/lib/python3.6/site-packages/torch/nn/functional.py:995: UserWarning: nn.functional.tanh is deprecated. Use torch.tanh instead.\n",
      "  warnings.warn(\"nn.functional.tanh is deprecated. Use torch.tanh instead.\")\n"
     ]
    },
    {
     "name": "stdout",
     "output_type": "stream",
     "text": [
      "Episode 26\tAverage Score: 0.00"
     ]
    },
    {
     "name": "stderr",
     "output_type": "stream",
     "text": [
      "/home/yipstar/drl/projects/p3_collab-compet/maddpg_agent.py:154: UserWarning: torch.nn.utils.clip_grad_norm is now deprecated in favor of torch.nn.utils.clip_grad_norm_.\n",
      "  \n"
     ]
    },
    {
     "name": "stdout",
     "output_type": "stream",
     "text": [
      "Episode 100\tAverage Score: 0.00\n",
      "Episode 200\tAverage Score: 0.00\n",
      "Episode 300\tAverage Score: 0.00\n",
      "Episode 400\tAverage Score: 0.00\n",
      "Episode 500\tAverage Score: 0.00\n",
      "Episode 600\tAverage Score: 0.00\n",
      "Episode 700\tAverage Score: 0.00\n",
      "Episode 800\tAverage Score: 0.00\n",
      "Episode 900\tAverage Score: 0.00\n",
      "Episode 1000\tAverage Score: 0.00\n",
      "Episode 1100\tAverage Score: 0.00\n",
      "Episode 1200\tAverage Score: 0.00\n",
      "Episode 1300\tAverage Score: 0.00\n",
      "Episode 1400\tAverage Score: 0.00\n",
      "Episode 1500\tAverage Score: 0.00\n",
      "Episode 1600\tAverage Score: 0.00\n",
      "Episode 1700\tAverage Score: 0.00\n",
      "Episode 1800\tAverage Score: 0.00\n",
      "Episode 1900\tAverage Score: 0.01\n",
      "Episode 2000\tAverage Score: 0.00\n"
     ]
    }
   ],
   "source": [
    "scores, scores1, scores2 = run(env, agent, n_episodes=2000)"
   ]
  },
  {
   "cell_type": "code",
   "execution_count": 7,
   "metadata": {},
   "outputs": [
    {
     "name": "stderr",
     "output_type": "stream",
     "text": [
      "/home/yipstar/anaconda3/envs/drl/lib/python3.6/site-packages/torch/nn/functional.py:995: UserWarning: nn.functional.tanh is deprecated. Use torch.tanh instead.\n",
      "  warnings.warn(\"nn.functional.tanh is deprecated. Use torch.tanh instead.\")\n"
     ]
    },
    {
     "name": "stdout",
     "output_type": "stream",
     "text": [
      "Episode 26\tAverage Score: 0.01"
     ]
    },
    {
     "name": "stderr",
     "output_type": "stream",
     "text": [
      "/home/yipstar/drl/projects/p3_collab-compet/maddpg_agent.py:168: UserWarning: torch.nn.utils.clip_grad_norm is now deprecated in favor of torch.nn.utils.clip_grad_norm_.\n",
      "  self.soft_update(self.actor_local, self.actor_target, TAU)\n"
     ]
    },
    {
     "name": "stdout",
     "output_type": "stream",
     "text": [
      "Episode 100\tAverage Score: 0.00\n",
      "Episode 200\tAverage Score: 0.00\n",
      "Episode 300\tAverage Score: 0.02\n",
      "Episode 400\tAverage Score: 0.04\n",
      "Episode 500\tAverage Score: 0.04\n",
      "Episode 600\tAverage Score: 0.01\n",
      "Episode 700\tAverage Score: 0.00\n",
      "Episode 800\tAverage Score: 0.10\n",
      "Episode 900\tAverage Score: 0.17\n",
      "Episode 1000\tAverage Score: 0.14\n",
      "Episode 1100\tAverage Score: 0.22\n",
      "Episode 1200\tAverage Score: 0.06\n",
      "Episode 1300\tAverage Score: 0.03\n",
      "Episode 1400\tAverage Score: 0.04\n",
      "Episode 1500\tAverage Score: 0.06\n",
      "Episode 1600\tAverage Score: 0.05\n",
      "Episode 1700\tAverage Score: 0.03\n",
      "Episode 1800\tAverage Score: 0.06\n",
      "Episode 1900\tAverage Score: 0.05\n",
      "Episode 2000\tAverage Score: 0.00\n"
     ]
    }
   ],
   "source": [
    "from maddpg_agent import MaddpgAgent\n",
    "agent = MaddpgAgent(state_size=state_size, action_size=action_size, random_seed=2)\n",
    "scores, scores1, scores2 = run(env, agent, n_episodes=2000)"
   ]
  },
  {
   "cell_type": "code",
   "execution_count": 10,
   "metadata": {},
   "outputs": [
    {
     "data": {
      "image/png": "[encoded data removed]",
      "text/plain": [
       "<Figure size 432x288 with 1 Axes>"
      ]
     },
     "metadata": {
      "needs_background": "light"
     },
     "output_type": "display_data"
    }
   ],
   "source": [
    "plot_scores(scores)"
   ]
  },
  {
   "cell_type": "code",
   "execution_count": 11,
   "metadata": {},
   "outputs": [
    {
     "name": "stderr",
     "output_type": "stream",
     "text": [
      "/home/yipstar/anaconda3/envs/drl/lib/python3.6/site-packages/torch/nn/functional.py:995: UserWarning: nn.functional.tanh is deprecated. Use torch.tanh instead.\n",
      "  warnings.warn(\"nn.functional.tanh is deprecated. Use torch.tanh instead.\")\n"
     ]
    },
    {
     "name": "stdout",
     "output_type": "stream",
     "text": [
      "Episode 13\tAverage Score: 0.00"
     ]
    },
    {
     "name": "stderr",
     "output_type": "stream",
     "text": [
      "/home/yipstar/drl/projects/p3_collab-compet/maddpg_agent.py:169: UserWarning: torch.nn.utils.clip_grad_norm is now deprecated in favor of torch.nn.utils.clip_grad_norm_.\n",
      "  \n"
     ]
    },
    {
     "name": "stdout",
     "output_type": "stream",
     "text": [
      "Episode 100\tAverage Score: 0.00\n",
      "Episode 200\tAverage Score: 0.00\n",
      "Episode 300\tAverage Score: 0.01\n",
      "Episode 400\tAverage Score: 0.07\n",
      "Episode 500\tAverage Score: 0.07\n",
      "Episode 600\tAverage Score: 0.11\n",
      "Episode 700\tAverage Score: 0.18\n",
      "Episode 771\tAverage Score: 0.51\n",
      "Environment solved in 671 episodes!\tAverage Score: 0.51\n"
     ]
    }
   ],
   "source": [
    "from maddpg_agent import MaddpgAgent\n",
    "agent = MaddpgAgent(state_size=state_size, action_size=action_size, random_seed=2)\n",
    "scores, scores1, scores2 = run(env, agent, n_episodes=2000)"
   ]
  },
  {
   "cell_type": "code",
   "execution_count": 12,
   "metadata": {},
   "outputs": [
    {
     "data": {
      "image/png": "[encoded data removed]",
      "text/plain": [
       "<Figure size 432x288 with 1 Axes>"
      ]
     },
     "metadata": {
      "needs_background": "light"
     },
     "output_type": "display_data"
    }
   ],
   "source": [
    "plot_scores(scores)"
   ]
  }
 ],
 "metadata": {
  "kernelspec": {
   "display_name": "Python [conda env:drl]",
   "language": "python",
   "name": "conda-env-drl-py"
  },
  "language_info": {
   "codemirror_mode": {
    "name": "ipython",
    "version": 3
   },
   "file_extension": ".py",
   "mimetype": "text/x-python",
   "name": "python",
   "nbconvert_exporter": "python",
   "pygments_lexer": "ipython3",
   "version": "3.6.6"
  }
 },
 "nbformat": 4,
 "nbformat_minor": 2
}
